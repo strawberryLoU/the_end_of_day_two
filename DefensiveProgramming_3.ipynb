{
 "cells": [
  {
   "cell_type": "markdown",
   "metadata": {},
   "source": [
    "   # Defensive programming (2)\n",
    "   We have seen the basic idea that we can insert\n",
    "   assert statments into code, to check that the \n",
    "   results are what we expect, but how can we test\n",
    "   software more fully? Can doing this help us \n",
    "   avoid bugs in the first place?\n",
    "   \n",
    "   One possible approach is **test driven development**.\n",
    "   Many people think this reduces the number of bugs in \n",
    "   software as it is written, but evidence for this in the \n",
    "   sciences is somewhat limited as it is not always easy \n",
    "   to say what the right answer should be before writing the\n",
    "   software. Having said that, the tests involved in test\n",
    "   driven development are certanly useful even if some of\n",
    "   them are written after the software.\n",
    "   \n",
    "   We will look at a new (and quite difficult) problem, \n",
    "   finding the overlap between ranges of numbers. For \n",
    "   example, these could be the dates that different \n",
    "   sensors were running, and you need to find the \n",
    "   date ranges where all sensors recorded data before\n",
    "   running further analysis."
   ]
  },
  {
   "cell_type": "markdown",
   "metadata": {},
   "source": [
    "<img src=\"python-overlapping-ranges.svg\">"
   ]
  },
  {
   "cell_type": "markdown",
   "metadata": {},
   "source": [
    "Start off by imagining you have a working function `range_overlap` that takes\n",
    "a list of tuples. Write some assert statments that would check if the answer from this\n",
    "function is correct. Put these in a function. Think of different cases and \n",
    "about edge cases (which may show a subtle bug)."
   ]
  },
  {
   "cell_type": "code",
   "execution_count": 1,
   "metadata": {
    "collapsed": true
   },
   "outputs": [],
   "source": [
    "def test_range_overlap():\n",
    "    assert range_overlap([(-3.0, 5.0), (0.0, 4.5), (-1.5, 2.0)]) == (0.0, 2.0)\n",
    "    assert range_overlap([ (2.0, 3.0), (2.0, 4.0) ]) == (2.0, 3.0)\n",
    "    assert range_overlap([ (0.0, 1.0), (0.0, 2.0), (-1.0, 1.0) ]) == (0.0, 1.0)"
   ]
  },
  {
   "cell_type": "markdown",
   "metadata": {},
   "source": [
    "But what if there is no overlap? What if they just touch?"
   ]
  },
  {
   "cell_type": "code",
   "execution_count": 2,
   "metadata": {
    "collapsed": true
   },
   "outputs": [],
   "source": [
    "def test_range_overlap_no_overlap():\n",
    "    assert range_overlap([ (0.0, 1.0), (5.0, 6.0) ]) == None\n",
    "    assert range_overlap([ (0.0, 1.0), (1.0, 2.0) ]) == None"
   ]
  },
  {
   "cell_type": "markdown",
   "metadata": {},
   "source": [
    "What about the case of a single range?"
   ]
  },
  {
   "cell_type": "code",
   "execution_count": 3,
   "metadata": {
    "collapsed": true
   },
   "outputs": [],
   "source": [
    "def test_range_overlap_one_range():\n",
    "        assert range_overlap([ (0.0, 1.0) ]) == (0.0, 1.0)"
   ]
  },
  {
   "cell_type": "markdown",
   "metadata": {},
   "source": [
    "The write a solution - one possible one is below."
   ]
  },
  {
   "cell_type": "code",
   "execution_count": 4,
   "metadata": {
    "collapsed": true
   },
   "outputs": [],
   "source": [
    "def range_overlap(ranges):\n",
    "    # Return common overlap among a set of [low, high] ranges.\n",
    "    lowest = -1000.0\n",
    "    highest = 1000.0\n",
    "    for (low, high) in ranges:\n",
    "        lowest = max(lowest, low)\n",
    "        highest = min(highest, high)\n",
    "    return (lowest, highest)"
   ]
  },
  {
   "cell_type": "markdown",
   "metadata": {},
   "source": [
    "And test it..."
   ]
  },
  {
   "cell_type": "code",
   "execution_count": 5,
   "metadata": {
    "collapsed": false
   },
   "outputs": [],
   "source": [
    "test_range_overlap()"
   ]
  },
  {
   "cell_type": "code",
   "execution_count": 7,
   "metadata": {
    "collapsed": false
   },
   "outputs": [],
   "source": [
    "test_range_overlap_one_range()"
   ]
  },
  {
   "cell_type": "markdown",
   "metadata": {},
   "source": [
    "Should we add to the tests?"
   ]
  },
  {
   "cell_type": "markdown",
   "metadata": {},
   "source": [
    "Can you write version with fewer bugs. My attempt is below."
   ]
  },
  {
   "cell_type": "code",
   "execution_count": 8,
   "metadata": {
    "collapsed": false
   },
   "outputs": [],
   "source": [
    "def pairs_overlap(rangeA, rangeB):\n",
    "    # Check if A starts after B ends and \n",
    "    # A ends before B starts. If both are \n",
    "    # false, there is an overlap.\n",
    "    # We are assuming (0.0 1.0) and\n",
    "    # (1.0 2.0) do not overlap. If these should\n",
    "    # overlap swap >= for > and <= for <.\n",
    "    overlap = not ((rangeA[0] >= rangeB[1]) or\n",
    "                   (rangeA[1] <= rangeB[0]))\n",
    "    \n",
    "    return overlap\n",
    "\n",
    "def find_overlap(rangeA, rangeB):\n",
    "    # Return the overlap between range \n",
    "    # A and B\n",
    "    if pairs_overlap(rangeA, rangeB):\n",
    "        low = max(rangeA[0], rangeB[0])\n",
    "        high = min(rangeA[1], rangeB[1])\n",
    "        return (low, high)\n",
    "    else:\n",
    "        return None\n",
    "\n",
    "def range_overlap(ranges):\n",
    "    # Return common overlap among a set of \n",
    "    # [low, high] ranges.\n",
    "\n",
    "    if len(ranges) == 1:\n",
    "        # Special case of one range - \n",
    "        # overlaps with itself\n",
    "        return(ranges[0])\n",
    "    elif len(ranges) == 2:\n",
    "        # Just return from find_overlap\n",
    "        return find_overlap(ranges[0], ranges[1])\n",
    "    else:\n",
    "        # Range of A, B, C is the \n",
    "        # range of range(B,C) with\n",
    "        # A, etc. Do this by recursion...\n",
    "        overlap = find_overlap(ranges[-1], ranges[-2]) \n",
    "        if overlap is not None:\n",
    "            # Chop off the end of ranges and \n",
    "            # replace with the overlap\n",
    "            ranges = ranges[:-2]\n",
    "            ranges.append(overlap)\n",
    "            # Now run again, with the smaller list.\n",
    "            return range_overlap(ranges)\n",
    "        else:\n",
    "            return None\n"
   ]
  },
  {
   "cell_type": "code",
   "execution_count": 9,
   "metadata": {
    "collapsed": false
   },
   "outputs": [],
   "source": [
    "test_range_overlap()\n",
    "test_range_overlap_one_range()\n",
    "test_range_overlap_no_overlap()"
   ]
  },
  {
   "cell_type": "code",
   "execution_count": null,
   "metadata": {
    "collapsed": true
   },
   "outputs": [],
   "source": []
  },
  {
   "cell_type": "code",
   "execution_count": null,
   "metadata": {
    "collapsed": true
   },
   "outputs": [],
   "source": []
  }
 ],
 "metadata": {
  "kernelspec": {
   "display_name": "Python 2",
   "language": "python",
   "name": "python2"
  },
  "language_info": {
   "codemirror_mode": {
    "name": "ipython",
    "version": 2
   },
   "file_extension": ".py",
   "mimetype": "text/x-python",
   "name": "python",
   "nbconvert_exporter": "python",
   "pygments_lexer": "ipython2",
   "version": "2.7.10"
  }
 },
 "nbformat": 4,
 "nbformat_minor": 0
}
